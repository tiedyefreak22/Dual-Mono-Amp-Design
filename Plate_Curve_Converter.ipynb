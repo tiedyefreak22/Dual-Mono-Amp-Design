{
 "cells": [
  {
   "cell_type": "code",
   "execution_count": 32,
   "id": "8990b528-bb1e-4dee-aecb-4cb875bf2164",
   "metadata": {},
   "outputs": [
    {
     "name": "stdout",
     "output_type": "stream",
     "text": [
      "Done\n"
     ]
    }
   ],
   "source": [
    "import pandas as pd\n",
    "import numpy as np\n",
    "import os\n",
    "\n",
    "filename = \"sovtek-6h30pi_plate_curves.csv\"\n",
    "df_tube = pd.read_csv(filename)\n",
    "# Assumes column 1 contains plate voltages and subsequent columns\n",
    "# each contain Ia's for different Vg and are labeled \"Ec=__V\"\n",
    "\n",
    "output_df = pd.DataFrame()\n",
    "\n",
    "for column_idx in range(1, len(df_tube.columns)):\n",
    "    columns = df_tube.iloc[:, [0, column_idx]][df_tube.iloc[:, [0, column_idx]].iloc[:, 1].notna()] # grabs 1st and column_idx columns, then filters out nans\n",
    "    Vg = float(columns.keys()[1].replace(\"Ec=\", \"\").replace(\"V\", \"\")) * -1 if float(columns.keys()[1].replace(\"Ec=\", \"\").replace(\"V\", \"\")) < 0 else float(columns.keys()[1].replace(\"Ec=\", \"\").replace(\"V\", \"\")) # extracts Vg and inverts if not equal to 0\n",
    "    columns[\"Vg\"] = np.full(np.shape(columns.iloc[:, -1].values), Vg)\n",
    "    columns.rename(columns = {\"x\": \"Vp\", columns.keys()[1]: \"Ia\"}, inplace = True)\n",
    "    output_df = pd.concat([output_df, columns.sort_values(by='Vp')], axis = 0)\n",
    "\n",
    "output_df.loc[:, [\"Vp\", \"Vg\", \"Ia\"]].to_csv(os.path.splitext(filename)[0] + \"_2.csv\", index=False)\n",
    "print(\"Done\")"
   ]
  },
  {
   "cell_type": "code",
   "execution_count": null,
   "id": "2e9d1bf2-fac8-445b-8788-437e0d13da31",
   "metadata": {},
   "outputs": [],
   "source": []
  }
 ],
 "metadata": {
  "kernelspec": {
   "display_name": "Python 3 (ipykernel)",
   "language": "python",
   "name": "python3"
  },
  "language_info": {
   "codemirror_mode": {
    "name": "ipython",
    "version": 3
   },
   "file_extension": ".py",
   "mimetype": "text/x-python",
   "name": "python",
   "nbconvert_exporter": "python",
   "pygments_lexer": "ipython3",
   "version": "3.12.3"
  }
 },
 "nbformat": 4,
 "nbformat_minor": 5
}
